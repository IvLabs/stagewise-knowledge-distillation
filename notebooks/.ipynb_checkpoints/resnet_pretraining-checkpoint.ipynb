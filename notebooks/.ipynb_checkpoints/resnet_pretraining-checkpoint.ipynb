{
 "cells": [
  {
   "cell_type": "code",
   "execution_count": 1,
   "metadata": {},
   "outputs": [],
   "source": [
    "from fastai.vision import *\n",
    "import torch\n",
    "torch.cuda.set_device(0)"
   ]
  },
  {
   "cell_type": "code",
   "execution_count": 2,
   "metadata": {},
   "outputs": [],
   "source": [
    "path = untar_data(URLs.IMAGENETTE)"
   ]
  },
  {
   "cell_type": "code",
   "execution_count": 3,
   "metadata": {},
   "outputs": [],
   "source": [
    "tfms = get_transforms(do_flip=False)\n",
    "data = ImageDataBunch.from_folder(path, train = 'train', valid = 'val', bs = 64, size = 224, ds_tfms = tfms).normalize(imagenet_stats)"
   ]
  },
  {
   "cell_type": "code",
   "execution_count": null,
   "metadata": {},
   "outputs": [],
   "source": [
    "data.show_batch()"
   ]
  },
  {
   "cell_type": "code",
   "execution_count": 9,
   "metadata": {
    "scrolled": true
   },
   "outputs": [
    {
     "data": {
      "text/plain": [
       "Sequential\n",
       "======================================================================\n",
       "Layer (type)         Output Shape         Param #    Trainable \n",
       "======================================================================\n",
       "Conv2d               [64, 112, 112]       9,408      True      \n",
       "______________________________________________________________________\n",
       "BatchNorm2d          [64, 112, 112]       128        True      \n",
       "______________________________________________________________________\n",
       "ReLU                 [64, 112, 112]       0          False     \n",
       "______________________________________________________________________\n",
       "MaxPool2d            [64, 56, 56]         0          False     \n",
       "______________________________________________________________________\n",
       "Conv2d               [64, 56, 56]         36,864     True      \n",
       "______________________________________________________________________\n",
       "BatchNorm2d          [64, 56, 56]         128        True      \n",
       "______________________________________________________________________\n",
       "ReLU                 [64, 56, 56]         0          False     \n",
       "______________________________________________________________________\n",
       "Conv2d               [64, 56, 56]         36,864     True      \n",
       "______________________________________________________________________\n",
       "BatchNorm2d          [64, 56, 56]         128        True      \n",
       "______________________________________________________________________\n",
       "Conv2d               [64, 56, 56]         36,864     True      \n",
       "______________________________________________________________________\n",
       "BatchNorm2d          [64, 56, 56]         128        True      \n",
       "______________________________________________________________________\n",
       "ReLU                 [64, 56, 56]         0          False     \n",
       "______________________________________________________________________\n",
       "Conv2d               [64, 56, 56]         36,864     True      \n",
       "______________________________________________________________________\n",
       "BatchNorm2d          [64, 56, 56]         128        True      \n",
       "______________________________________________________________________\n",
       "Conv2d               [64, 56, 56]         36,864     True      \n",
       "______________________________________________________________________\n",
       "BatchNorm2d          [64, 56, 56]         128        True      \n",
       "______________________________________________________________________\n",
       "ReLU                 [64, 56, 56]         0          False     \n",
       "______________________________________________________________________\n",
       "Conv2d               [64, 56, 56]         36,864     True      \n",
       "______________________________________________________________________\n",
       "BatchNorm2d          [64, 56, 56]         128        True      \n",
       "______________________________________________________________________\n",
       "Conv2d               [128, 28, 28]        73,728     True      \n",
       "______________________________________________________________________\n",
       "BatchNorm2d          [128, 28, 28]        256        True      \n",
       "______________________________________________________________________\n",
       "ReLU                 [128, 28, 28]        0          False     \n",
       "______________________________________________________________________\n",
       "Conv2d               [128, 28, 28]        147,456    True      \n",
       "______________________________________________________________________\n",
       "BatchNorm2d          [128, 28, 28]        256        True      \n",
       "______________________________________________________________________\n",
       "Conv2d               [128, 28, 28]        8,192      True      \n",
       "______________________________________________________________________\n",
       "BatchNorm2d          [128, 28, 28]        256        True      \n",
       "______________________________________________________________________\n",
       "Conv2d               [128, 28, 28]        147,456    True      \n",
       "______________________________________________________________________\n",
       "BatchNorm2d          [128, 28, 28]        256        True      \n",
       "______________________________________________________________________\n",
       "ReLU                 [128, 28, 28]        0          False     \n",
       "______________________________________________________________________\n",
       "Conv2d               [128, 28, 28]        147,456    True      \n",
       "______________________________________________________________________\n",
       "BatchNorm2d          [128, 28, 28]        256        True      \n",
       "______________________________________________________________________\n",
       "Conv2d               [128, 28, 28]        147,456    True      \n",
       "______________________________________________________________________\n",
       "BatchNorm2d          [128, 28, 28]        256        True      \n",
       "______________________________________________________________________\n",
       "ReLU                 [128, 28, 28]        0          False     \n",
       "______________________________________________________________________\n",
       "Conv2d               [128, 28, 28]        147,456    True      \n",
       "______________________________________________________________________\n",
       "BatchNorm2d          [128, 28, 28]        256        True      \n",
       "______________________________________________________________________\n",
       "Conv2d               [128, 28, 28]        147,456    True      \n",
       "______________________________________________________________________\n",
       "BatchNorm2d          [128, 28, 28]        256        True      \n",
       "______________________________________________________________________\n",
       "ReLU                 [128, 28, 28]        0          False     \n",
       "______________________________________________________________________\n",
       "Conv2d               [128, 28, 28]        147,456    True      \n",
       "______________________________________________________________________\n",
       "BatchNorm2d          [128, 28, 28]        256        True      \n",
       "______________________________________________________________________\n",
       "Conv2d               [256, 14, 14]        294,912    True      \n",
       "______________________________________________________________________\n",
       "BatchNorm2d          [256, 14, 14]        512        True      \n",
       "______________________________________________________________________\n",
       "ReLU                 [256, 14, 14]        0          False     \n",
       "______________________________________________________________________\n",
       "Conv2d               [256, 14, 14]        589,824    True      \n",
       "______________________________________________________________________\n",
       "BatchNorm2d          [256, 14, 14]        512        True      \n",
       "______________________________________________________________________\n",
       "Conv2d               [256, 14, 14]        32,768     True      \n",
       "______________________________________________________________________\n",
       "BatchNorm2d          [256, 14, 14]        512        True      \n",
       "______________________________________________________________________\n",
       "Conv2d               [256, 14, 14]        589,824    True      \n",
       "______________________________________________________________________\n",
       "BatchNorm2d          [256, 14, 14]        512        True      \n",
       "______________________________________________________________________\n",
       "ReLU                 [256, 14, 14]        0          False     \n",
       "______________________________________________________________________\n",
       "Conv2d               [256, 14, 14]        589,824    True      \n",
       "______________________________________________________________________\n",
       "BatchNorm2d          [256, 14, 14]        512        True      \n",
       "______________________________________________________________________\n",
       "Conv2d               [256, 14, 14]        589,824    True      \n",
       "______________________________________________________________________\n",
       "BatchNorm2d          [256, 14, 14]        512        True      \n",
       "______________________________________________________________________\n",
       "ReLU                 [256, 14, 14]        0          False     \n",
       "______________________________________________________________________\n",
       "Conv2d               [256, 14, 14]        589,824    True      \n",
       "______________________________________________________________________\n",
       "BatchNorm2d          [256, 14, 14]        512        True      \n",
       "______________________________________________________________________\n",
       "Conv2d               [256, 14, 14]        589,824    True      \n",
       "______________________________________________________________________\n",
       "BatchNorm2d          [256, 14, 14]        512        True      \n",
       "______________________________________________________________________\n",
       "ReLU                 [256, 14, 14]        0          False     \n",
       "______________________________________________________________________\n",
       "Conv2d               [256, 14, 14]        589,824    True      \n",
       "______________________________________________________________________\n",
       "BatchNorm2d          [256, 14, 14]        512        True      \n",
       "______________________________________________________________________\n",
       "Conv2d               [256, 14, 14]        589,824    True      \n",
       "______________________________________________________________________\n",
       "BatchNorm2d          [256, 14, 14]        512        True      \n",
       "______________________________________________________________________\n",
       "ReLU                 [256, 14, 14]        0          False     \n",
       "______________________________________________________________________\n",
       "Conv2d               [256, 14, 14]        589,824    True      \n",
       "______________________________________________________________________\n",
       "BatchNorm2d          [256, 14, 14]        512        True      \n",
       "______________________________________________________________________\n",
       "Conv2d               [256, 14, 14]        589,824    True      \n",
       "______________________________________________________________________\n",
       "BatchNorm2d          [256, 14, 14]        512        True      \n",
       "______________________________________________________________________\n",
       "ReLU                 [256, 14, 14]        0          False     \n",
       "______________________________________________________________________\n",
       "Conv2d               [256, 14, 14]        589,824    True      \n",
       "______________________________________________________________________\n",
       "BatchNorm2d          [256, 14, 14]        512        True      \n",
       "______________________________________________________________________\n",
       "Conv2d               [512, 7, 7]          1,179,648  True      \n",
       "______________________________________________________________________\n",
       "BatchNorm2d          [512, 7, 7]          1,024      True      \n",
       "______________________________________________________________________\n",
       "ReLU                 [512, 7, 7]          0          False     \n",
       "______________________________________________________________________\n",
       "Conv2d               [512, 7, 7]          2,359,296  True      \n",
       "______________________________________________________________________\n",
       "BatchNorm2d          [512, 7, 7]          1,024      True      \n",
       "______________________________________________________________________\n",
       "Conv2d               [512, 7, 7]          131,072    True      \n",
       "______________________________________________________________________\n",
       "BatchNorm2d          [512, 7, 7]          1,024      True      \n",
       "______________________________________________________________________\n",
       "Conv2d               [512, 7, 7]          2,359,296  True      \n",
       "______________________________________________________________________\n",
       "BatchNorm2d          [512, 7, 7]          1,024      True      \n",
       "______________________________________________________________________\n",
       "ReLU                 [512, 7, 7]          0          False     \n",
       "______________________________________________________________________\n",
       "Conv2d               [512, 7, 7]          2,359,296  True      \n",
       "______________________________________________________________________\n",
       "BatchNorm2d          [512, 7, 7]          1,024      True      \n",
       "______________________________________________________________________\n",
       "Conv2d               [512, 7, 7]          2,359,296  True      \n",
       "______________________________________________________________________\n",
       "BatchNorm2d          [512, 7, 7]          1,024      True      \n",
       "______________________________________________________________________\n",
       "ReLU                 [512, 7, 7]          0          False     \n",
       "______________________________________________________________________\n",
       "Conv2d               [512, 7, 7]          2,359,296  True      \n",
       "______________________________________________________________________\n",
       "BatchNorm2d          [512, 7, 7]          1,024      True      \n",
       "______________________________________________________________________\n",
       "AdaptiveAvgPool2d    [512, 1, 1]          0          False     \n",
       "______________________________________________________________________\n",
       "AdaptiveMaxPool2d    [512, 1, 1]          0          False     \n",
       "______________________________________________________________________\n",
       "Flatten              [1024]               0          False     \n",
       "______________________________________________________________________\n",
       "BatchNorm1d          [1024]               2,048      True      \n",
       "______________________________________________________________________\n",
       "Dropout              [1024]               0          False     \n",
       "______________________________________________________________________\n",
       "Linear               [512]                524,800    True      \n",
       "______________________________________________________________________\n",
       "ReLU                 [512]                0          False     \n",
       "______________________________________________________________________\n",
       "BatchNorm1d          [512]                1,024      True      \n",
       "______________________________________________________________________\n",
       "Dropout              [512]                0          False     \n",
       "______________________________________________________________________\n",
       "Linear               [10]                 5,130      True      \n",
       "______________________________________________________________________\n",
       "\n",
       "Total params: 21,817,674\n",
       "Total trainable params: 21,817,674\n",
       "Total non-trainable params: 0\n",
       "Optimized with 'torch.optim.adam.Adam', betas=(0.9, 0.99)\n",
       "Using true weight decay as discussed in https://www.fast.ai/2018/07/02/adam-weight-decay/ \n",
       "Loss function : FlattenedLoss\n",
       "======================================================================\n",
       "Callbacks functions applied "
      ]
     },
     "execution_count": 9,
     "metadata": {},
     "output_type": "execute_result"
    }
   ],
   "source": [
    "learn = cnn_learner(data, models.resnet34, metrics = accuracy, pretrained = True)\n",
    "learn.unfreeze()\n",
    "learn.summary()"
   ]
  },
  {
   "cell_type": "code",
   "execution_count": 10,
   "metadata": {},
   "outputs": [
    {
     "data": {
      "text/html": [],
      "text/plain": [
       "<IPython.core.display.HTML object>"
      ]
     },
     "metadata": {},
     "output_type": "display_data"
    },
    {
     "name": "stdout",
     "output_type": "stream",
     "text": [
      "LR Finder is complete, type {learner_name}.recorder.plot() to see the graph.\n"
     ]
    },
    {
     "data": {
      "image/png": "[encoded data removed]",
      "text/plain": [
       "<Figure size 432x288 with 1 Axes>"
      ]
     },
     "metadata": {
      "needs_background": "light"
     },
     "output_type": "display_data"
    }
   ],
   "source": [
    "learn.lr_find()\n",
    "learn.recorder.plot()"
   ]
  },
  {
   "cell_type": "code",
   "execution_count": null,
   "metadata": {},
   "outputs": [],
   "source": [
    "learn.fit_one_cycle(50, max_lr = 5e-4, callbacks=[callbacks.SaveModelCallback(learn, monitor = 'accuracy', mode = 'max')])"
   ]
  },
  {
   "cell_type": "code",
   "execution_count": 5,
   "metadata": {},
   "outputs": [],
   "source": [
    "learn.save('resnet34_imagenette_bs64')"
   ]
  },
  {
   "cell_type": "code",
   "execution_count": 6,
   "metadata": {},
   "outputs": [
    {
     "name": "stdout",
     "output_type": "stream",
     "text": [
      "99.0\n"
     ]
    }
   ],
   "source": [
    "learn = cnn_learner(data, models.resnet34, metrics = accuracy, pretrained = True)\n",
    "learn.load('resnet34_imagenette_bs64')\n",
    "preds, y, losses = learn.get_preds(with_loss=True, ds_type = DatasetType.Valid)\n",
    "interp = ClassificationInterpretation(learn, preds, y, losses)\n",
    "conf_mat = interp.confusion_matrix()\n",
    "acc = np.trace(conf_mat) / np.sum(conf_mat, axis = None)\n",
    "print(acc * 100)"
   ]
  },
  {
   "cell_type": "code",
   "execution_count": null,
   "metadata": {},
   "outputs": [],
   "source": []
  }
 ],
 "metadata": {
  "kernelspec": {
   "display_name": "Python (ak_fastai)",
   "language": "python",
   "name": "ak_fastai"
  },
  "language_info": {
   "codemirror_mode": {
    "name": "ipython",
    "version": 3
   },
   "file_extension": ".py",
   "mimetype": "text/x-python",
   "name": "python",
   "nbconvert_exporter": "python",
   "pygments_lexer": "ipython3",
   "version": "3.7.3"
  }
 },
 "nbformat": 4,
 "nbformat_minor": 4
}
