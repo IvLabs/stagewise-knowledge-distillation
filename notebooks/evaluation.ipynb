{
 "cells": [
  {
   "cell_type": "code",
   "execution_count": 9,
   "metadata": {},
   "outputs": [],
   "source": [
    "import warnings\n",
    "warnings.filterwarnings(\"ignore\", category=UserWarning, module=\"torch.nn.functional\")\n",
    "%matplotlib inline\n",
    "import matplotlib.pyplot as plt\n",
    "from fastai.vision import *\n",
    "import torch\n",
    "from torchsummary import summary\n",
    "torch.cuda.set_device(0)\n",
    "torch.manual_seed(0)\n",
    "torch.cuda.manual_seed(0)\n",
    "\n",
    "from models.custom_resnet import *\n",
    "from utils import _get_accuracy"
   ]
  },
  {
   "cell_type": "code",
   "execution_count": 10,
   "metadata": {},
   "outputs": [],
   "source": [
    "def check(model_name, dataset) :\n",
    "    if dataset == 'imagenette' : \n",
    "        path = untar_data(URLs.IMAGENETTE)\n",
    "    elif dataset == 'cifar10' : \n",
    "        path = untar_data(URLs.CIFAR)\n",
    "    elif dataset == 'imagewoof' : \n",
    "        path = untar_data(URLs.IMAGEWOOF)\n",
    "    \n",
    "    val = 'val'\n",
    "    sz = 224\n",
    "    stats = imagenet_stats\n",
    "\n",
    "    tfms = get_transforms(do_flip=False)\n",
    "    load_name = dataset\n",
    "    if dataset == 'cifar10' : \n",
    "        val = 'test'\n",
    "        sz = 32\n",
    "        stats = cifar_stats\n",
    "        load_name = dataset[ : -2]\n",
    "\n",
    "    data = ImageDataBunch.from_folder(path, train = 'train', valid = val, bs = 64, size = sz, ds_tfms = tfms).normalize(stats)\n",
    "    \n",
    "    if model_name == 'resnet10' :\n",
    "        net = resnet10(pretrained = False, progress = False)\n",
    "    elif model_name == 'resnet14' : \n",
    "        net = resnet14(pretrained = False, progress = False)\n",
    "    elif model_name == 'resnet18' :\n",
    "        net = resnet18(pretrained = False, progress = False)\n",
    "    elif model_name == 'resnet20' :\n",
    "        net = resnet20(pretrained = False, progress = False)\n",
    "    elif model_name == 'resnet26' :\n",
    "        net = resnet26(pretrained = False, progress = False)\n",
    "    savename = '../saved_models/' + dataset + '/' + model_name + '_classifier/model0.pt'\n",
    "    net.load_state_dict(torch.load(savename, map_location = 'cpu'))\n",
    "    net.cuda()\n",
    "    print('stagewise : ', _get_accuracy(data.valid_dl, net))\n",
    "    \n",
    "    savename = '../saved_models/' + dataset + '/' + model_name + '_no_teacher/model0.pt'\n",
    "    net.load_state_dict(torch.load(savename, map_location = 'cpu'))\n",
    "    net.cuda()\n",
    "    print('no_teacher : ', _get_accuracy(data.valid_dl, net))"
   ]
  },
  {
   "cell_type": "code",
   "execution_count": 8,
   "metadata": {},
   "outputs": [
    {
     "name": "stdout",
     "output_type": "stream",
     "text": [
      "stagewise :  0.974\n",
      "no_teacher :  0.918\n",
      "stagewise :  0.988\n",
      "no_teacher :  0.912\n",
      "stagewise :  0.988\n",
      "no_teacher :  0.914\n",
      "stagewise :  0.988\n",
      "no_teacher :  0.916\n",
      "stagewise :  0.99\n",
      "no_teacher :  0.906\n"
     ]
    }
   ],
   "source": [
    "check('resnet10', 'imagenette')\n",
    "check('resnet14', 'imagenette')\n",
    "check('resnet18', 'imagenette')\n",
    "check('resnet20', 'imagenette')\n",
    "check('resnet26', 'imagenette')"
   ]
  },
  {
   "cell_type": "code",
   "execution_count": 13,
   "metadata": {},
   "outputs": [
    {
     "name": "stdout",
     "output_type": "stream",
     "text": [
      "stagewise :  0.906\n",
      "no_teacher :  0.802\n",
      "stagewise :  0.928\n",
      "no_teacher :  0.786\n",
      "stagewise :  0.924\n",
      "no_teacher :  0.792\n",
      "stagewise :  0.92\n",
      "no_teacher :  0.798\n",
      "stagewise :  0.934\n",
      "no_teacher :  0.802\n"
     ]
    }
   ],
   "source": [
    "check('resnet10', 'imagewoof')\n",
    "check('resnet14', 'imagewoof')\n",
    "check('resnet18', 'imagewoof')\n",
    "check('resnet20', 'imagewoof')\n",
    "check('resnet26', 'imagewoof')"
   ]
  },
  {
   "cell_type": "code",
   "execution_count": 14,
   "metadata": {},
   "outputs": [
    {
     "name": "stdout",
     "output_type": "stream",
     "text": [
      "stagewise :  0.8475\n",
      "no_teacher :  0.7788\n",
      "stagewise :  0.8497\n",
      "no_teacher :  0.775\n",
      "stagewise :  0.8599\n",
      "no_teacher :  0.7735\n",
      "stagewise :  0.8646\n",
      "no_teacher :  0.7808\n",
      "stagewise :  0.8662\n",
      "no_teacher :  0.783\n"
     ]
    }
   ],
   "source": [
    "check('resnet10', 'cifar10')\n",
    "check('resnet14', 'cifar10')\n",
    "check('resnet18', 'cifar10')\n",
    "check('resnet20', 'cifar10')\n",
    "check('resnet26', 'cifar10')"
   ]
  },
  {
   "cell_type": "code",
   "execution_count": 11,
   "metadata": {},
   "outputs": [],
   "source": [
    "def check_ld(model_name, dataset) :\n",
    "    if dataset == 'imagenette' : \n",
    "        path = untar_data(URLs.IMAGENETTE)\n",
    "    elif dataset == 'cifar10' : \n",
    "        path = untar_data(URLs.CIFAR)\n",
    "    elif dataset == 'imagewoof' : \n",
    "        path = untar_data(URLs.IMAGEWOOF)\n",
    "    \n",
    "    new_path = path/'new'\n",
    "    val = 'val'\n",
    "    sz = 224\n",
    "    stats = imagenet_stats\n",
    "\n",
    "    tfms = get_transforms(do_flip=False)\n",
    "    load_name = dataset\n",
    "    if dataset == 'cifar10' : \n",
    "        val = 'test'\n",
    "        sz = 32\n",
    "        stats = cifar_stats\n",
    "        load_name = dataset[ : -2]\n",
    "\n",
    "    data = ImageDataBunch.from_folder(new_path, train = 'train', valid = 'val', test = 'test', bs = 64, size = sz, ds_tfms = tfms).normalize(stats)\n",
    "    \n",
    "    if model_name == 'resnet10' :\n",
    "        net = resnet10(pretrained = False, progress = False)\n",
    "    elif model_name == 'resnet14' : \n",
    "        net = resnet14(pretrained = False, progress = False)\n",
    "    elif model_name == 'resnet18' :\n",
    "        net = resnet18(pretrained = False, progress = False)\n",
    "    elif model_name == 'resnet20' :\n",
    "        net = resnet20(pretrained = False, progress = False)\n",
    "    elif model_name == 'resnet26' :\n",
    "        net = resnet26(pretrained = False, progress = False)\n",
    "    savename = '../saved_models/' + dataset + '/less_data/' + model_name + '_classifier/model0.pt'\n",
    "    net.load_state_dict(torch.load(savename, map_location = 'cpu'))\n",
    "    net.cuda()\n",
    "    print('stagewise : ', _get_accuracy(data.valid_dl, net))\n",
    "    \n",
    "    savename = '../saved_models/' + dataset + '/less_data/' + model_name + '_no_teacher/model0.pt'\n",
    "    net.load_state_dict(torch.load(savename, map_location = 'cpu'))\n",
    "    net.cuda()\n",
    "    print('no_teacher : ', _get_accuracy(data.valid_dl, net))"
   ]
  },
  {
   "cell_type": "code",
   "execution_count": 12,
   "metadata": {},
   "outputs": [
    {
     "name": "stdout",
     "output_type": "stream",
     "text": [
      "stagewise :  0.954\n",
      "no_teacher :  0.848\n",
      "stagewise :  0.95\n",
      "no_teacher :  0.85\n",
      "stagewise :  0.956\n",
      "no_teacher :  0.854\n",
      "stagewise :  0.958\n",
      "no_teacher :  0.85\n",
      "stagewise :  0.96\n",
      "no_teacher :  0.832\n"
     ]
    }
   ],
   "source": [
    "check_ld('resnet10', 'imagenette')\n",
    "check_ld('resnet14', 'imagenette')\n",
    "check_ld('resnet18', 'imagenette')\n",
    "check_ld('resnet20', 'imagenette')\n",
    "check_ld('resnet26', 'imagenette')"
   ]
  },
  {
   "cell_type": "code",
   "execution_count": 15,
   "metadata": {},
   "outputs": [
    {
     "name": "stdout",
     "output_type": "stream",
     "text": [
      "stagewise :  0.858\n",
      "no_teacher :  0.632\n",
      "stagewise :  0.89\n",
      "no_teacher :  0.616\n",
      "stagewise :  0.89\n",
      "no_teacher :  0.602\n",
      "stagewise :  0.876\n",
      "no_teacher :  0.6\n",
      "stagewise :  0.898\n",
      "no_teacher :  0.588\n"
     ]
    }
   ],
   "source": [
    "check_ld('resnet10', 'imagewoof')\n",
    "check_ld('resnet14', 'imagewoof')\n",
    "check_ld('resnet18', 'imagewoof')\n",
    "check_ld('resnet20', 'imagewoof')\n",
    "check_ld('resnet26', 'imagewoof')"
   ]
  },
  {
   "cell_type": "code",
   "execution_count": 16,
   "metadata": {},
   "outputs": [
    {
     "name": "stdout",
     "output_type": "stream",
     "text": [
      "stagewise :  0.8159\n",
      "no_teacher :  0.6635\n",
      "stagewise :  0.8255\n",
      "no_teacher :  0.6489\n",
      "stagewise :  0.8328\n",
      "no_teacher :  0.6466\n",
      "stagewise :  0.8324\n",
      "no_teacher :  0.6519\n",
      "stagewise :  0.8364\n",
      "no_teacher :  0.6409\n"
     ]
    }
   ],
   "source": [
    "check_ld('resnet10', 'cifar10')\n",
    "check_ld('resnet14', 'cifar10')\n",
    "check_ld('resnet18', 'cifar10')\n",
    "check_ld('resnet20', 'cifar10')\n",
    "check_ld('resnet26', 'cifar10')"
   ]
  },
  {
   "cell_type": "code",
   "execution_count": 24,
   "metadata": {},
   "outputs": [],
   "source": [
    "def check_teacher(model_name, dataset) :\n",
    "    if dataset == 'imagenette' : \n",
    "        path = untar_data(URLs.IMAGENETTE)\n",
    "    elif dataset == 'cifar10' : \n",
    "        path = untar_data(URLs.CIFAR)\n",
    "    elif dataset == 'imagewoof' : \n",
    "        path = untar_data(URLs.IMAGEWOOF)\n",
    "    \n",
    "    val = 'val'\n",
    "    sz = 224\n",
    "    stats = imagenet_stats\n",
    "\n",
    "    tfms = get_transforms(do_flip=False)\n",
    "    load_name = dataset\n",
    "    if dataset == 'cifar10' : \n",
    "        val = 'test'\n",
    "        sz = 32\n",
    "        stats = cifar_stats\n",
    "        load_name = dataset[ : -2]\n",
    "\n",
    "    data = ImageDataBunch.from_folder(path, train = 'train', valid = val, bs = 64, size = sz, ds_tfms = tfms).normalize(stats)\n",
    "\n",
    "    if model_name == 'resnet34' :\n",
    "        learn = cnn_learner(data, models.resnet34, metrics = accuracy)\n",
    "        learn = learn.load('resnet34_' + load_name + '_bs64')\n",
    "        learn.freeze()\n",
    "        net = learn.model\n",
    "    \n",
    "    net = net.cuda()\n",
    "    print(_get_accuracy(data.valid_dl, net))"
   ]
  },
  {
   "cell_type": "code",
   "execution_count": 25,
   "metadata": {},
   "outputs": [
    {
     "name": "stdout",
     "output_type": "stream",
     "text": [
      "0.992\n",
      "0.914\n",
      "0.8751\n"
     ]
    }
   ],
   "source": [
    "check_teacher('resnet34', 'imagenette')\n",
    "check_teacher('resnet34', 'imagewoof')\n",
    "check_teacher('resnet34', 'cifar10')"
   ]
  },
  {
   "cell_type": "code",
   "execution_count": null,
   "metadata": {},
   "outputs": [],
   "source": []
  }
 ],
 "metadata": {
  "kernelspec": {
   "display_name": "Python (pyt)",
   "language": "python",
   "name": "pyt"
  },
  "language_info": {
   "codemirror_mode": {
    "name": "ipython",
    "version": 3
   },
   "file_extension": ".py",
   "mimetype": "text/x-python",
   "name": "python",
   "nbconvert_exporter": "python",
   "pygments_lexer": "ipython3",
   "version": "3.7.4"
  }
 },
 "nbformat": 4,
 "nbformat_minor": 4
}
